{
 "cells": [
  {
   "cell_type": "code",
   "execution_count": 1,
   "metadata": {
    "scrolled": true
   },
   "outputs": [
    {
     "name": "stderr",
     "output_type": "stream",
     "text": [
      "/Library/Frameworks/Python.framework/Versions/3.7/lib/python3.7/site-packages/ipykernel_launcher.py:6: DeprecationWarning: Using or importing the ABCs from 'collections' instead of from 'collections.abc' is deprecated since Python 3.3,and in 3.9 it will stop working\n",
      "  \n"
     ]
    }
   ],
   "source": [
    "import numpy as np\n",
    "import pandas as pd\n",
    "import matplotlib.pyplot as plt\n",
    "from sklearn.datasets import load_iris\n",
    "from sklearn.model_selection import train_test_split\n",
    "from collections import Container\n",
    "\n",
    "%matplotlib inline\n",
    "%config InlineBackend.figure_format='svg'"
   ]
  },
  {
   "cell_type": "code",
   "execution_count": 2,
   "metadata": {},
   "outputs": [],
   "source": [
    "# 创建鸢尾花数据集\n",
    "def create_data():\n",
    "    iris = load_iris()\n",
    "    df = pd.DataFrame(iris.data,columns = iris.feature_names)\n",
    "    df['label'] = iris.target\n",
    "    df.columns = ['sepal length', 'sepal width', 'petal length', 'petal width', 'label']\n",
    "    # 100 samples\n",
    "    data = np.array(df.iloc[:100,:])\n",
    "    # 4 features\n",
    "    return data[:,:-1],data[:,-1]"
   ]
  },
  {
   "cell_type": "code",
   "execution_count": 3,
   "metadata": {},
   "outputs": [],
   "source": [
    "X,y = create_data()\n",
    "X_train,X_test,y_train,y_test = train_test_split(X,y,test_size=0.3,random_state=123)"
   ]
  },
  {
   "cell_type": "markdown",
   "metadata": {},
   "source": [
    "### $$GaussianNB$$\n",
    "\n",
    "$$E(X)=\\sum_{i=1}^{∞}x_ip_i$$\n",
    "\n",
    "$$D(X)=\\sum_i^{n}(x_i-EX)^2p_i$$\n",
    "\n",
    "$$P(x_i|y_i)=\\frac{1}{\\sqrt{2\\pi\\sigma^{2}_{yk}}}exp(-\\frac{(x_i-u_{yk})^2}{2\\sigma^2_{yk}})$$"
   ]
  },
  {
   "cell_type": "code",
   "execution_count": 4,
   "metadata": {},
   "outputs": [],
   "source": [
    "# 定义高斯贝叶斯模型\n",
    "class NaiveBayes:\n",
    "    def __init__(self):\n",
    "        self.model = None\n",
    "        \n",
    "    # 均值\n",
    "    @staticmethod\n",
    "    def mean(X):\n",
    "        return sum(X)/float(len(X))\n",
    "    \n",
    "    # 标准差\n",
    "    def stdev(self,X):\n",
    "        avg = self.mean(X)\n",
    "        return np.sqrt(sum([np.power(x-avg,2) for x in X])/float(len(X)))\n",
    "    \n",
    "    # 概率密度函数\n",
    "    def gaussian_probability(self,x,mean,stdev):\n",
    "        exponent = np.exp(-(np.power(x-mean,2)/(2*np.power(stdev,2))))\n",
    "        \n",
    "        return (1/(np.sqrt(2*np.pi)*stdev))*exponent\n",
    "    \n",
    "    # process train set\n",
    "    def summarize(self,train_data):\n",
    "        summaries = [(self.mean(i),self.stdev(i)) for i in zip(*train_data)]\n",
    "        return summaries\n",
    "    \n",
    "    # 计算平均值和标准差\n",
    "    def fit(self,X,y):\n",
    "        labels = list(set(y))\n",
    "        data = {label:[] for label in labels}\n",
    "        for f,label in zip(X,y):\n",
    "            data[label].append(f)\n",
    "            \n",
    "        self.model = {\n",
    "            label : self.summarize(value)\n",
    "            for label,value in data.items()\n",
    "        }\n",
    "        \n",
    "        return 'gaussianNB train done!'\n",
    "    \n",
    "    # 计算概率\n",
    "    def calculate_probabilities(self,input_data):\n",
    "        probabilities = {}\n",
    "        for label,value in self.model.items():\n",
    "            probabilities[label] = 1\n",
    "            for i in range(len(value)):\n",
    "                mean , stdev = value[i]\n",
    "                probabilities[label] *= self.gaussian_probability(input_data[i],mean,stdev)\n",
    "                \n",
    "        return probabilities\n",
    "    \n",
    "    \n",
    "    # 返回标签\n",
    "    def predict(self,X_test):\n",
    "        label = sorted(\n",
    "            self.calculate_probabilities(X_test).items(),\n",
    "            key = lambda x:x[-1])[-1][0]\n",
    "        return label\n",
    "    \n",
    "    def score(self,X_test,y_test):\n",
    "        right = 0\n",
    "        for X,y in zip(X_test,y_test):\n",
    "            label = self.predict(X)\n",
    "            if label == y:\n",
    "                right += 1\n",
    "        return right/float(len(X_test))"
   ]
  },
  {
   "cell_type": "code",
   "execution_count": 5,
   "metadata": {},
   "outputs": [],
   "source": [
    "clf = NaiveBayes()"
   ]
  },
  {
   "cell_type": "code",
   "execution_count": 6,
   "metadata": {},
   "outputs": [
    {
     "data": {
      "text/plain": [
       "'gaussianNB train done!'"
      ]
     },
     "execution_count": 6,
     "metadata": {},
     "output_type": "execute_result"
    }
   ],
   "source": [
    "clf.fit(X_train,y_train)"
   ]
  },
  {
   "cell_type": "code",
   "execution_count": 7,
   "metadata": {},
   "outputs": [
    {
     "name": "stdout",
     "output_type": "stream",
     "text": [
      "0.0\n"
     ]
    }
   ],
   "source": [
    "print(clf.predict([4.4,  3.2,  1.3,  0.2]))"
   ]
  },
  {
   "cell_type": "code",
   "execution_count": 8,
   "metadata": {},
   "outputs": [
    {
     "data": {
      "text/plain": [
       "1.0"
      ]
     },
     "execution_count": 8,
     "metadata": {},
     "output_type": "execute_result"
    }
   ],
   "source": [
    "clf.score(X_test,y_test)"
   ]
  }
 ],
 "metadata": {
  "kernelspec": {
   "display_name": "Python 3",
   "language": "python",
   "name": "python3"
  },
  "language_info": {
   "codemirror_mode": {
    "name": "ipython",
    "version": 3
   },
   "file_extension": ".py",
   "mimetype": "text/x-python",
   "name": "python",
   "nbconvert_exporter": "python",
   "pygments_lexer": "ipython3",
   "version": "3.7.7"
  }
 },
 "nbformat": 4,
 "nbformat_minor": 4
}
